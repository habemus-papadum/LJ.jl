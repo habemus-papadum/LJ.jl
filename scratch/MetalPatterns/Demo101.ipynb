{
 "cells": [
  {
   "cell_type": "code",
   "execution_count": 1,
   "id": "bd4256e9",
   "metadata": {},
   "outputs": [],
   "source": [
    "using ImageShow, Metal, Colors, GeometryBasics, StaticArrays, FixedPointNumbers"
   ]
  },
  {
   "cell_type": "code",
   "execution_count": 2,
   "id": "60b985e2",
   "metadata": {},
   "outputs": [],
   "source": [
    "\n",
    "# UI\n",
    "function Base.show(io::IO, mime::MIME\"image/png\", img::MtlArray{C}) where C<:Colorant \n",
    "    Base.show(io, mime, Array(img))\n",
    "end\n",
    "\n",
    "function Base.showable(mime::MIME\"image/png\", img::MtlArray{C}) where C<:Colorant \n",
    "    true\n",
    "end"
   ]
  },
  {
   "cell_type": "code",
   "execution_count": 3,
   "id": "d0c8c4c1",
   "metadata": {},
   "outputs": [
    {
     "data": {
      "text/plain": [
       "generate (generic function with 1 method)"
      ]
     },
     "metadata": {},
     "output_type": "display_data"
    }
   ],
   "source": [
    "\n",
    "# Our basic primitive\n",
    "function generate(f, img)\n",
    "    r, c = Int32.(size(img))\n",
    "    i,j = thread_position_in_grid_2d()\n",
    "    \n",
    "    @inbounds if i <= r && j <= c\n",
    "        @inline img[i,j] = eltype(img)(f(i,j,r,c))\n",
    "    end\n",
    "    return\n",
    "end\n"
   ]
  },
  {
   "cell_type": "code",
   "execution_count": 5,
   "id": "ee563ba4",
   "metadata": {},
   "outputs": [
    {
     "data": {
      "image/png": "[encoded data removed]",
      "text/html": [
       "<img src=\"data:image/png;base64,iVBORw0KGgoAAAANSUhEUgAAAGQAAABkAQMAAABKLAcXAAAAIGNIUk0AAHomAACAhAAA+gAAAIDoAAB1MAAA6mAAADqYAAAXcJy6UTwAAAAGUExURdi/2P///yrDDywAAAABYktHRAH/Ai3eAAAAFElEQVQ4y2NgGAWjYBSMglFATwAABXgAASlxufwAAAAASUVORK5C\">"
      ],
      "text/plain": [
       "50×50 MtlMatrix{RGB{N0f8}, Metal.PrivateStorage}:\n",
       " RGB(0.847, 0.749, 0.847)  …  RGB(0.847, 0.749, 0.847)\n",
       " RGB(0.847, 0.749, 0.847)     RGB(0.847, 0.749, 0.847)\n",
       " RGB(0.847, 0.749, 0.847)     RGB(0.847, 0.749, 0.847)\n",
       " RGB(0.847, 0.749, 0.847)     RGB(0.847, 0.749, 0.847)\n",
       " RGB(0.847, 0.749, 0.847)     RGB(0.847, 0.749, 0.847)\n",
       " RGB(0.847, 0.749, 0.847)  …  RGB(0.847, 0.749, 0.847)\n",
       " RGB(0.847, 0.749, 0.847)     RGB(0.847, 0.749, 0.847)\n",
       " RGB(0.847, 0.749, 0.847)     RGB(0.847, 0.749, 0.847)\n",
       " RGB(0.847, 0.749, 0.847)     RGB(0.847, 0.749, 0.847)\n",
       " RGB(0.847, 0.749, 0.847)     RGB(0.847, 0.749, 0.847)\n",
       " ⋮                         ⋱  \n",
       " RGB(0.847, 0.749, 0.847)     RGB(0.847, 0.749, 0.847)\n",
       " RGB(0.847, 0.749, 0.847)     RGB(0.847, 0.749, 0.847)\n",
       " RGB(0.847, 0.749, 0.847)     RGB(0.847, 0.749, 0.847)\n",
       " RGB(0.847, 0.749, 0.847)     RGB(0.847, 0.749, 0.847)\n",
       " RGB(0.847, 0.749, 0.847)  …  RGB(0.847, 0.749, 0.847)\n",
       " RGB(0.847, 0.749, 0.847)     RGB(0.847, 0.749, 0.847)\n",
       " RGB(0.847, 0.749, 0.847)     RGB(0.847, 0.749, 0.847)\n",
       " RGB(0.847, 0.749, 0.847)     RGB(0.847, 0.749, 0.847)\n",
       " RGB(0.847, 0.749, 0.847)     RGB(0.847, 0.749, 0.847)"
      ]
     },
     "metadata": {},
     "output_type": "display_data"
    }
   ],
   "source": [
    "\n",
    "let \n",
    "    simple(i,j,r,c) = colorant\"thistle\"\n",
    "    \n",
    "    n = 50\n",
    "    b = MtlArray{RGB{N0f8}}(undef, n,n)\n",
    "    threads = 16\n",
    "    groups = cld.(n, threads)\n",
    "    @Metal.sync @metal threads=threads,threads groups=groups,groups generate(simple, b)\n",
    "    b\n",
    "end"
   ]
  },
  {
   "cell_type": "code",
   "execution_count": null,
   "id": "0c9e9ca1",
   "metadata": {},
   "outputs": [],
   "source": []
  }
 ],
 "metadata": {
  "kernelspec": {
   "display_name": "Julia 1.11.5",
   "language": "julia",
   "name": "julia-1.11"
  },
  "language_info": {
   "file_extension": ".jl",
   "mimetype": "application/julia",
   "name": "julia",
   "version": "1.11.5"
  }
 },
 "nbformat": 4,
 "nbformat_minor": 5
}
