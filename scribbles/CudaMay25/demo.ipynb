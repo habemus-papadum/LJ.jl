{
 "cells": [
  {
   "cell_type": "code",
   "execution_count": 2,
   "id": "98e6e5e1",
   "metadata": {},
   "outputs": [],
   "source": [
    "using CUDA, Colors, ColorMatrixConvention"
   ]
  },
  {
   "cell_type": "code",
   "execution_count": 3,
   "id": "c96069d9",
   "metadata": {},
   "outputs": [
    {
     "data": {
      "text/plain": [
       "generate (generic function with 2 methods)"
      ]
     },
     "metadata": {},
     "output_type": "display_data"
    }
   ],
   "source": [
    "function generate_kernel(f, img)\n",
    "    r, c = Int32.(size(img))\n",
    "    i = threadIdx().x + (blockIdx().x - 1) * blockDim().x\n",
    "    j = threadIdx().y + (blockIdx().y - 1) * blockDim().y\n",
    "    \n",
    "    @inbounds if i <= r && j <= c\n",
    "        @inline img[i,j] = eltype(img)(f(i,j,r,c))\n",
    "    end\n",
    "    return\n",
    "end\n",
    "\n",
    "function generate(f, img::CuArray{C}, sync=true) where C<:Colorant\n",
    "    threads = 16,16\n",
    "    blocks = cld.(size(img), threads)\n",
    "        @cuda threads=threads blocks=blocks generate_kernel(f, img)\n",
    "        if sync\n",
    "            CUDA.synchronize()\n",
    "        end\n",
    "    img\n",
    "end"
   ]
  },
  {
   "cell_type": "code",
   "execution_count": 5,
   "id": "5478a7c5",
   "metadata": {},
   "outputs": [
    {
     "data": {
      "image/png": "[encoded data removed]",
      "text/plain": [
       "50×50 CuArray{RGB{Float32}, 2, CUDA.DeviceMemory}:\n",
       " RGB(0.847059, 0.74902, 0.847059)  …  RGB(0.847059, 0.74902, 0.847059)\n",
       " RGB(0.847059, 0.74902, 0.847059)     RGB(0.847059, 0.74902, 0.847059)\n",
       " RGB(0.847059, 0.74902, 0.847059)     RGB(0.847059, 0.74902, 0.847059)\n",
       " RGB(0.847059, 0.74902, 0.847059)     RGB(0.847059, 0.74902, 0.847059)\n",
       " RGB(0.847059, 0.74902, 0.847059)     RGB(0.847059, 0.74902, 0.847059)\n",
       " RGB(0.847059, 0.74902, 0.847059)  …  RGB(0.847059, 0.74902, 0.847059)\n",
       " RGB(0.847059, 0.74902, 0.847059)     RGB(0.847059, 0.74902, 0.847059)\n",
       " RGB(0.847059, 0.74902, 0.847059)     RGB(0.847059, 0.74902, 0.847059)\n",
       " RGB(0.847059, 0.74902, 0.847059)     RGB(0.847059, 0.74902, 0.847059)\n",
       " RGB(0.847059, 0.74902, 0.847059)     RGB(0.847059, 0.74902, 0.847059)\n",
       " ⋮                                 ⋱  \n",
       " RGB(0.847059, 0.74902, 0.847059)     RGB(0.847059, 0.74902, 0.847059)\n",
       " RGB(0.847059, 0.74902, 0.847059)     RGB(0.847059, 0.74902, 0.847059)\n",
       " RGB(0.847059, 0.74902, 0.847059)     RGB(0.847059, 0.74902, 0.847059)\n",
       " RGB(0.847059, 0.74902, 0.847059)     RGB(0.847059, 0.74902, 0.847059)\n",
       " RGB(0.847059, 0.74902, 0.847059)  …  RGB(0.847059, 0.74902, 0.847059)\n",
       " RGB(0.847059, 0.74902, 0.847059)     RGB(0.847059, 0.74902, 0.847059)\n",
       " RGB(0.847059, 0.74902, 0.847059)     RGB(0.847059, 0.74902, 0.847059)\n",
       " RGB(0.847059, 0.74902, 0.847059)     RGB(0.847059, 0.74902, 0.847059)\n",
       " RGB(0.847059, 0.74902, 0.847059)     RGB(0.847059, 0.74902, 0.847059)"
      ]
     },
     "metadata": {},
     "output_type": "display_data"
    }
   ],
   "source": [
    "let \n",
    "    simple(i,j,r,c) = colorant\"thistle\"\n",
    "    \n",
    "    n = 50\n",
    "    b = CuArray{RGB{Float32}}(undef, n,n)\n",
    "    generate(simple, b)\n",
    "    b\n",
    "end"
   ]
  },
  {
   "cell_type": "code",
   "execution_count": 4,
   "id": "0545cb6c",
   "metadata": {},
   "outputs": [
    {
     "data": {
      "image/png": "[encoded data removed]",
      "text/plain": [
       "400×400 CuArray{RGB{Float32}, 2, CUDA.DeviceMemory}:\n",
       " RGB(0.847059, 0.74902, 0.847059)   …  RGB(0.678431, 0.847059, 0.901961)\n",
       " RGB(0.847059, 0.74902, 0.847059)      RGB(0.678431, 0.847059, 0.901961)\n",
       " RGB(0.847059, 0.74902, 0.847059)      RGB(0.678431, 0.847059, 0.901961)\n",
       " RGB(0.847059, 0.74902, 0.847059)      RGB(0.678431, 0.847059, 0.901961)\n",
       " RGB(0.847059, 0.74902, 0.847059)      RGB(0.678431, 0.847059, 0.901961)\n",
       " RGB(0.847059, 0.74902, 0.847059)   …  RGB(0.678431, 0.847059, 0.901961)\n",
       " RGB(0.847059, 0.74902, 0.847059)      RGB(0.678431, 0.847059, 0.901961)\n",
       " RGB(0.847059, 0.74902, 0.847059)      RGB(0.678431, 0.847059, 0.901961)\n",
       " RGB(0.847059, 0.74902, 0.847059)      RGB(0.678431, 0.847059, 0.901961)\n",
       " RGB(0.847059, 0.74902, 0.847059)      RGB(0.678431, 0.847059, 0.901961)\n",
       " ⋮                                  ⋱  \n",
       " RGB(0.564706, 0.933333, 0.564706)     RGB(1.0, 0.713726, 0.756863)\n",
       " RGB(0.564706, 0.933333, 0.564706)     RGB(1.0, 0.713726, 0.756863)\n",
       " RGB(0.564706, 0.933333, 0.564706)     RGB(1.0, 0.713726, 0.756863)\n",
       " RGB(0.564706, 0.933333, 0.564706)     RGB(1.0, 0.713726, 0.756863)\n",
       " RGB(0.564706, 0.933333, 0.564706)  …  RGB(1.0, 0.713726, 0.756863)\n",
       " RGB(0.564706, 0.933333, 0.564706)     RGB(1.0, 0.713726, 0.756863)\n",
       " RGB(0.564706, 0.933333, 0.564706)     RGB(1.0, 0.713726, 0.756863)\n",
       " RGB(0.564706, 0.933333, 0.564706)     RGB(1.0, 0.713726, 0.756863)\n",
       " RGB(0.564706, 0.933333, 0.564706)     RGB(1.0, 0.713726, 0.756863)"
      ]
     },
     "metadata": {},
     "output_type": "display_data"
    }
   ],
   "source": [
    "let \n",
    "    simple(i,j,r,c) = begin\n",
    "        if i < r/2 && j < c/2\n",
    "            colorant\"thistle\"\n",
    "        elseif i < r/2 && j >= c/2\n",
    "            colorant\"lightblue\"\n",
    "        elseif i >= r/2 && j < c/2\n",
    "            colorant\"lightgreen\"\n",
    "        else\n",
    "            colorant\"lightpink\"\n",
    "        end\n",
    "    end\n",
    "    \n",
    "    n = 400\n",
    "    b = CuArray{RGB{Float32}}(undef, n,n)\n",
    "    generate(simple, b)\n",
    "    b\n",
    "end"
   ]
  },
  {
   "cell_type": "code",
   "execution_count": 8,
   "id": "5050a994",
   "metadata": {},
   "outputs": [
    {
     "data": {
      "text/plain": [
       "i32\u001b[90m (alias for \u001b[39m\u001b[90mLiteral{Int32}\u001b[39m\u001b[90m)\u001b[39m"
      ]
     },
     "metadata": {},
     "output_type": "display_data"
    }
   ],
   "source": [
    "struct Literal{T} end\n",
    "Base.:(*)(x, ::Type{Literal{T}}) where {T} = T(x)\n",
    "const i32 = Literal{Int32}"
   ]
  },
  {
   "cell_type": "code",
   "execution_count": 11,
   "id": "5ebf8c81",
   "metadata": {},
   "outputs": [
    {
     "data": {
      "image/png": "[encoded data removed]",
      "text/plain": [
       "400×400 CuArray{RGB{Float32}, 2, CUDA.DeviceMemory}:\n",
       " RGB(0.980392, 0.501961, 0.447059)  …  RGB(0.980392, 0.501961, 0.447059)\n",
       " RGB(0.980392, 0.501961, 0.447059)     RGB(0.980392, 0.501961, 0.447059)\n",
       " RGB(0.980392, 0.501961, 0.447059)     RGB(0.980392, 0.501961, 0.447059)\n",
       " RGB(0.980392, 0.501961, 0.447059)     RGB(0.980392, 0.501961, 0.447059)\n",
       " RGB(0.980392, 0.501961, 0.447059)     RGB(0.980392, 0.501961, 0.447059)\n",
       " RGB(0.980392, 0.501961, 0.447059)  …  RGB(0.980392, 0.501961, 0.447059)\n",
       " RGB(0.980392, 0.501961, 0.447059)     RGB(0.980392, 0.501961, 0.447059)\n",
       " RGB(0.980392, 0.501961, 0.447059)     RGB(0.980392, 0.501961, 0.447059)\n",
       " RGB(0.980392, 0.501961, 0.447059)     RGB(0.980392, 0.501961, 0.447059)\n",
       " RGB(0.980392, 0.501961, 0.447059)     RGB(0.980392, 0.501961, 0.447059)\n",
       " ⋮                                  ⋱  \n",
       " RGB(1.0, 0.0, 0.0)                    RGB(1.0, 0.0, 0.0)\n",
       " RGB(1.0, 0.0, 0.0)                    RGB(1.0, 0.0, 0.0)\n",
       " RGB(1.0, 0.0, 0.0)                    RGB(1.0, 0.0, 0.0)\n",
       " RGB(1.0, 0.0, 0.0)                    RGB(1.0, 0.0, 0.0)\n",
       " RGB(1.0, 0.0, 0.0)                 …  RGB(1.0, 0.0, 0.0)\n",
       " RGB(1.0, 0.0, 0.0)                    RGB(1.0, 0.0, 0.0)\n",
       " RGB(1.0, 0.0, 0.0)                    RGB(1.0, 0.0, 0.0)\n",
       " RGB(1.0, 0.0, 0.0)                    RGB(1.0, 0.0, 0.0)\n",
       " RGB(0.980392, 0.501961, 0.447059)     RGB(0.980392, 0.501961, 0.447059)"
      ]
     },
     "metadata": {},
     "output_type": "display_data"
    }
   ],
   "source": [
    "let \n",
    "    shader(i,j, r, c) = begin\n",
    "        i, ii = divrem(i, 100i32)\n",
    "        j, jj = divrem(j, 100i32)\n",
    "        if i == 1 && j == 2 && (ii < 3 || jj < 3 || ii > 97 || jj > 97)\n",
    "            return colorant\"white\" \n",
    "        end\n",
    "\n",
    "        x  =  Float32(ii - 50i32) / 50.0f0\n",
    "        y  =  Float32(jj - 50i32) / 50.0f0\n",
    "        # if abs(x)  + abs(y) - 1.25f0 < 0.0f0\n",
    "        # \treturn colorant\"salmon\"\n",
    "        # else \n",
    "        # \treturn colorant\"steelblue\"\n",
    "        # end\n",
    "        if x < 0.0f0 && y < 0.0f0\n",
    "            return colorant\"salmon\"\n",
    "        elseif x < 0.0f0 && y > 0.0f0\n",
    "            return colorant\"steelblue\"\n",
    "        elseif x > 0.0f0 && y < 0.0f0\n",
    "            return colorant\"red\"\n",
    "        elseif x > 0.0f0 && y > 0.0f0\n",
    "            return colorant\"green\"\n",
    "        else\n",
    "            return colorant\"white\"\n",
    "        end\n",
    "    end\n",
    "    n = 400\n",
    "    b = CuArray{RGB{Float32}}(undef, n,n)\n",
    "    generate(shader, b)\n",
    "    b\n",
    "end"
   ]
  },
  {
   "cell_type": "code",
   "execution_count": 18,
   "id": "beac1eea",
   "metadata": {},
   "outputs": [
    {
     "data": {
      "image/png": "[encoded data removed]",
      "text/plain": [
       "400×400 CuArray{RGB{Float32}, 2, CUDA.DeviceMemory}:\n",
       " RGB(0.27451, 0.509804, 0.705882)  …  RGB(0.27451, 0.509804, 0.705882)\n",
       " RGB(0.27451, 0.509804, 0.705882)     RGB(0.27451, 0.509804, 0.705882)\n",
       " RGB(0.27451, 0.509804, 0.705882)     RGB(0.27451, 0.509804, 0.705882)\n",
       " RGB(0.27451, 0.509804, 0.705882)     RGB(0.27451, 0.509804, 0.705882)\n",
       " RGB(0.27451, 0.509804, 0.705882)     RGB(0.27451, 0.509804, 0.705882)\n",
       " RGB(0.27451, 0.509804, 0.705882)  …  RGB(0.27451, 0.509804, 0.705882)\n",
       " RGB(0.27451, 0.509804, 0.705882)     RGB(0.27451, 0.509804, 0.705882)\n",
       " RGB(0.27451, 0.509804, 0.705882)     RGB(0.27451, 0.509804, 0.705882)\n",
       " RGB(0.27451, 0.509804, 0.705882)     RGB(0.27451, 0.509804, 0.705882)\n",
       " RGB(0.27451, 0.509804, 0.705882)     RGB(0.27451, 0.509804, 0.705882)\n",
       " ⋮                                 ⋱  \n",
       " RGB(0.27451, 0.509804, 0.705882)     RGB(0.27451, 0.509804, 0.705882)\n",
       " RGB(0.27451, 0.509804, 0.705882)     RGB(0.27451, 0.509804, 0.705882)\n",
       " RGB(0.27451, 0.509804, 0.705882)     RGB(0.27451, 0.509804, 0.705882)\n",
       " RGB(0.27451, 0.509804, 0.705882)     RGB(0.27451, 0.509804, 0.705882)\n",
       " RGB(0.27451, 0.509804, 0.705882)  …  RGB(0.27451, 0.509804, 0.705882)\n",
       " RGB(0.27451, 0.509804, 0.705882)     RGB(0.27451, 0.509804, 0.705882)\n",
       " RGB(0.27451, 0.509804, 0.705882)     RGB(0.27451, 0.509804, 0.705882)\n",
       " RGB(0.27451, 0.509804, 0.705882)     RGB(0.27451, 0.509804, 0.705882)\n",
       " RGB(0.27451, 0.509804, 0.705882)     RGB(0.27451, 0.509804, 0.705882)"
      ]
     },
     "metadata": {},
     "output_type": "display_data"
    }
   ],
   "source": [
    "let \n",
    "    shader(i,j, r, c) = begin\n",
    "        i, ii = divrem(i, 100i32)\n",
    "        j, jj = divrem(j, 100i32)\n",
    "        if i == 1 && j == 2 && (ii < 3 || jj < 3 || ii > 97 || jj > 97)\n",
    "            return colorant\"white\" \n",
    "        end\n",
    "\n",
    "        x  =  Float32(ii - 50i32) / 50.0f0\n",
    "        y  =  Float32(jj - 50i32) / 50.0f0\n",
    "        x = abs(x)\n",
    "        y = abs(y)\n",
    "        if x  + y - 1.5f0 < 0.0f0\n",
    "        \tif max(x,y) > 0.98\n",
    "                return colorant\"black\"\n",
    "            else\n",
    "                return colorant\"salmon\"\n",
    "            end\n",
    "        else \n",
    "        \treturn colorant\"steelblue\"\n",
    "        end\n",
    "    end\n",
    "    n = 400\n",
    "    b = CuArray{RGB{Float32}}(undef, n,n)\n",
    "    generate(shader, b)\n",
    "    b\n",
    "end"
   ]
  },
  {
   "cell_type": "code",
   "execution_count": null,
   "id": "1a241e67",
   "metadata": {},
   "outputs": [],
   "source": []
  }
 ],
 "metadata": {
  "kernelspec": {
   "display_name": "Julia 1.11.5",
   "language": "julia",
   "name": "julia-1.11"
  },
  "language_info": {
   "file_extension": ".jl",
   "mimetype": "application/julia",
   "name": "julia",
   "version": "1.11.5"
  }
 },
 "nbformat": 4,
 "nbformat_minor": 5
}
