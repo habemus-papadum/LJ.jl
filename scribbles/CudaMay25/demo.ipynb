{
 "cells": [
  {
   "cell_type": "code",
   "execution_count": null,
   "id": "98e6e5e1",
   "metadata": {},
   "outputs": [],
   "source": [
    "using CUDA, Colors, ColorMatrixConvention"
   ]
  },
  {
   "cell_type": "code",
   "execution_count": null,
   "id": "c96069d9",
   "metadata": {},
   "outputs": [
    {
     "data": {
      "text/plain": [
       "generate (generic function with 2 methods)"
      ]
     },
     "metadata": {},
     "output_type": "display_data"
    }
   ],
   "source": [
    "function generate_kernel(f, img)\n",
    "    r, c = Int32.(size(img))\n",
    "    i = threadIdx().x + (blockIdx().x - 1) * blockDim().x\n",
    "    j = threadIdx().y + (blockIdx().y - 1) * blockDim().y\n",
    "    \n",
    "    @inbounds if i <= r && j <= c\n",
    "        @inline img[i,j] = eltype(img)(f(i,j,r,c))\n",
    "    end\n",
    "    return\n",
    "end\n",
    "\n",
    "function generate(f, img::CuArray{C}, sync=true) where C<:Colorant\n",
    "    threads = 16,16\n",
    "    blocks = cld.(size(img), threads)\n",
    "        @cuda threads=threads blocks=blocks generate_kernel(f, img)\n",
    "        if sync\n",
    "            CUDA.synchronize()\n",
    "        end\n",
    "    img\n",
    "end"
   ]
  },
  {
   "cell_type": "code",
   "execution_count": 4,
   "id": "5478a7c5",
   "metadata": {},
   "outputs": [
    {
     "data": {
      "image/png": "[encoded data removed]",
      "text/plain": [
       "50×50 CuArray{RGB{Float32}, 2, CUDA.DeviceMemory}:\n",
       " RGB(0.847059, 0.74902, 0.847059)  …  RGB(0.847059, 0.74902, 0.847059)\n",
       " RGB(0.847059, 0.74902, 0.847059)     RGB(0.847059, 0.74902, 0.847059)\n",
       " RGB(0.847059, 0.74902, 0.847059)     RGB(0.847059, 0.74902, 0.847059)\n",
       " RGB(0.847059, 0.74902, 0.847059)     RGB(0.847059, 0.74902, 0.847059)\n",
       " RGB(0.847059, 0.74902, 0.847059)     RGB(0.847059, 0.74902, 0.847059)\n",
       " RGB(0.847059, 0.74902, 0.847059)  …  RGB(0.847059, 0.74902, 0.847059)\n",
       " RGB(0.847059, 0.74902, 0.847059)     RGB(0.847059, 0.74902, 0.847059)\n",
       " RGB(0.847059, 0.74902, 0.847059)     RGB(0.847059, 0.74902, 0.847059)\n",
       " RGB(0.847059, 0.74902, 0.847059)     RGB(0.847059, 0.74902, 0.847059)\n",
       " RGB(0.847059, 0.74902, 0.847059)     RGB(0.847059, 0.74902, 0.847059)\n",
       " ⋮                                 ⋱  \n",
       " RGB(0.847059, 0.74902, 0.847059)     RGB(0.847059, 0.74902, 0.847059)\n",
       " RGB(0.847059, 0.74902, 0.847059)     RGB(0.847059, 0.74902, 0.847059)\n",
       " RGB(0.847059, 0.74902, 0.847059)     RGB(0.847059, 0.74902, 0.847059)\n",
       " RGB(0.847059, 0.74902, 0.847059)     RGB(0.847059, 0.74902, 0.847059)\n",
       " RGB(0.847059, 0.74902, 0.847059)  …  RGB(0.847059, 0.74902, 0.847059)\n",
       " RGB(0.847059, 0.74902, 0.847059)     RGB(0.847059, 0.74902, 0.847059)\n",
       " RGB(0.847059, 0.74902, 0.847059)     RGB(0.847059, 0.74902, 0.847059)\n",
       " RGB(0.847059, 0.74902, 0.847059)     RGB(0.847059, 0.74902, 0.847059)\n",
       " RGB(0.847059, 0.74902, 0.847059)     RGB(0.847059, 0.74902, 0.847059)"
      ]
     },
     "metadata": {},
     "output_type": "display_data"
    }
   ],
   "source": [
    "let \n",
    "    simple(i,j,r,c) = colorant\"thistle\"\n",
    "    \n",
    "    n = 50\n",
    "    b = CuArray{RGB{Float32}}(undef, n,n)\n",
    "    generate(simple, b)\n",
    "    b\n",
    "end"
   ]
  },
  {
   "cell_type": "code",
   "execution_count": 5,
   "id": "0545cb6c",
   "metadata": {},
   "outputs": [
    {
     "data": {
      "image/png": "[encoded data removed]",
      "text/plain": [
       "400×400 CuArray{RGB{Float32}, 2, CUDA.DeviceMemory}:\n",
       " RGB(0.847059, 0.74902, 0.847059)   …  RGB(0.678431, 0.847059, 0.901961)\n",
       " RGB(0.847059, 0.74902, 0.847059)      RGB(0.678431, 0.847059, 0.901961)\n",
       " RGB(0.847059, 0.74902, 0.847059)      RGB(0.678431, 0.847059, 0.901961)\n",
       " RGB(0.847059, 0.74902, 0.847059)      RGB(0.678431, 0.847059, 0.901961)\n",
       " RGB(0.847059, 0.74902, 0.847059)      RGB(0.678431, 0.847059, 0.901961)\n",
       " RGB(0.847059, 0.74902, 0.847059)   …  RGB(0.678431, 0.847059, 0.901961)\n",
       " RGB(0.847059, 0.74902, 0.847059)      RGB(0.678431, 0.847059, 0.901961)\n",
       " RGB(0.847059, 0.74902, 0.847059)      RGB(0.678431, 0.847059, 0.901961)\n",
       " RGB(0.847059, 0.74902, 0.847059)      RGB(0.678431, 0.847059, 0.901961)\n",
       " RGB(0.847059, 0.74902, 0.847059)      RGB(0.678431, 0.847059, 0.901961)\n",
       " ⋮                                  ⋱  \n",
       " RGB(0.564706, 0.933333, 0.564706)     RGB(1.0, 0.713726, 0.756863)\n",
       " RGB(0.564706, 0.933333, 0.564706)     RGB(1.0, 0.713726, 0.756863)\n",
       " RGB(0.564706, 0.933333, 0.564706)     RGB(1.0, 0.713726, 0.756863)\n",
       " RGB(0.564706, 0.933333, 0.564706)     RGB(1.0, 0.713726, 0.756863)\n",
       " RGB(0.564706, 0.933333, 0.564706)  …  RGB(1.0, 0.713726, 0.756863)\n",
       " RGB(0.564706, 0.933333, 0.564706)     RGB(1.0, 0.713726, 0.756863)\n",
       " RGB(0.564706, 0.933333, 0.564706)     RGB(1.0, 0.713726, 0.756863)\n",
       " RGB(0.564706, 0.933333, 0.564706)     RGB(1.0, 0.713726, 0.756863)\n",
       " RGB(0.564706, 0.933333, 0.564706)     RGB(1.0, 0.713726, 0.756863)"
      ]
     },
     "metadata": {},
     "output_type": "display_data"
    }
   ],
   "source": [
    "let \n",
    "    simple(i,j,r,c) = begin\n",
    "        if i < r/2 && j < c/2\n",
    "            colorant\"thistle\"\n",
    "        elseif i < r/2 && j >= c/2\n",
    "            colorant\"lightblue\"\n",
    "        elseif i >= r/2 && j < c/2\n",
    "            colorant\"lightgreen\"\n",
    "        else\n",
    "            colorant\"lightpink\"\n",
    "        end\n",
    "    end\n",
    "    \n",
    "    n = 400\n",
    "    b = CuArray{RGB{Float32}}(undef, n,n)\n",
    "    generate(simple, b)\n",
    "    b\n",
    "end"
   ]
  },
  {
   "cell_type": "code",
   "execution_count": 6,
   "id": "5050a994",
   "metadata": {},
   "outputs": [
    {
     "data": {
      "text/plain": [
       "i32\u001b[90m (alias for \u001b[39m\u001b[90mLiteral{Int32}\u001b[39m\u001b[90m)\u001b[39m"
      ]
     },
     "metadata": {},
     "output_type": "display_data"
    }
   ],
   "source": [
    "struct Literal{T} end\n",
    "Base.:(*)(x, ::Type{Literal{T}}) where {T} = T(x)\n",
    "const i32 = Literal{Int32}"
   ]
  },
  {
   "cell_type": "code",
   "execution_count": 7,
   "id": "5ebf8c81",
   "metadata": {},
   "outputs": [
    {
     "data": {
      "image/png": "[encoded data removed]",
      "text/plain": [
       "400×400 CuArray{RGB{Float32}, 2, CUDA.DeviceMemory}:\n",
       " RGB(0.980392, 0.501961, 0.447059)  …  RGB(0.980392, 0.501961, 0.447059)\n",
       " RGB(0.980392, 0.501961, 0.447059)     RGB(0.980392, 0.501961, 0.447059)\n",
       " RGB(0.980392, 0.501961, 0.447059)     RGB(0.980392, 0.501961, 0.447059)\n",
       " RGB(0.980392, 0.501961, 0.447059)     RGB(0.980392, 0.501961, 0.447059)\n",
       " RGB(0.980392, 0.501961, 0.447059)     RGB(0.980392, 0.501961, 0.447059)\n",
       " RGB(0.980392, 0.501961, 0.447059)  …  RGB(0.980392, 0.501961, 0.447059)\n",
       " RGB(0.980392, 0.501961, 0.447059)     RGB(0.980392, 0.501961, 0.447059)\n",
       " RGB(0.980392, 0.501961, 0.447059)     RGB(0.980392, 0.501961, 0.447059)\n",
       " RGB(0.980392, 0.501961, 0.447059)     RGB(0.980392, 0.501961, 0.447059)\n",
       " RGB(0.980392, 0.501961, 0.447059)     RGB(0.980392, 0.501961, 0.447059)\n",
       " ⋮                                  ⋱  \n",
       " RGB(1.0, 0.0, 0.0)                    RGB(1.0, 0.0, 0.0)\n",
       " RGB(1.0, 0.0, 0.0)                    RGB(1.0, 0.0, 0.0)\n",
       " RGB(1.0, 0.0, 0.0)                    RGB(1.0, 0.0, 0.0)\n",
       " RGB(1.0, 0.0, 0.0)                    RGB(1.0, 0.0, 0.0)\n",
       " RGB(1.0, 0.0, 0.0)                 …  RGB(1.0, 0.0, 0.0)\n",
       " RGB(1.0, 0.0, 0.0)                    RGB(1.0, 0.0, 0.0)\n",
       " RGB(1.0, 0.0, 0.0)                    RGB(1.0, 0.0, 0.0)\n",
       " RGB(1.0, 0.0, 0.0)                    RGB(1.0, 0.0, 0.0)\n",
       " RGB(0.980392, 0.501961, 0.447059)     RGB(0.980392, 0.501961, 0.447059)"
      ]
     },
     "metadata": {},
     "output_type": "display_data"
    }
   ],
   "source": [
    "let \n",
    "    shader(i,j, r, c) = begin\n",
    "        i, ii = divrem(i, 100i32)\n",
    "        j, jj = divrem(j, 100i32)\n",
    "        if i == 1 && j == 2 && (ii < 3 || jj < 3 || ii > 97 || jj > 97)\n",
    "            return colorant\"white\" \n",
    "        end\n",
    "\n",
    "        x  =  Float32(ii - 50i32) / 50.0f0\n",
    "        y  =  Float32(jj - 50i32) / 50.0f0\n",
    "        # if abs(x)  + abs(y) - 1.25f0 < 0.0f0\n",
    "        # \treturn colorant\"salmon\"\n",
    "        # else \n",
    "        # \treturn colorant\"steelblue\"\n",
    "        # end\n",
    "        if x < 0.0f0 && y < 0.0f0\n",
    "            return colorant\"salmon\"\n",
    "        elseif x < 0.0f0 && y > 0.0f0\n",
    "            return colorant\"steelblue\"\n",
    "        elseif x > 0.0f0 && y < 0.0f0\n",
    "            return colorant\"red\"\n",
    "        elseif x > 0.0f0 && y > 0.0f0\n",
    "            return colorant\"green\"\n",
    "        else\n",
    "            return colorant\"white\"\n",
    "        end\n",
    "    end\n",
    "    n = 400\n",
    "    b = CuArray{RGB{Float32}}(undef, n,n)\n",
    "    generate(shader, b)\n",
    "    b\n",
    "end"
   ]
  },
  {
   "cell_type": "code",
   "execution_count": 8,
   "id": "beac1eea",
   "metadata": {},
   "outputs": [
    {
     "data": {
      "image/png": "[encoded data removed]",
      "text/plain": [
       "400×400 CuArray{RGB{Float32}, 2, CUDA.DeviceMemory}:\n",
       " RGB(0.27451, 0.509804, 0.705882)  …  RGB(0.27451, 0.509804, 0.705882)\n",
       " RGB(0.27451, 0.509804, 0.705882)     RGB(0.27451, 0.509804, 0.705882)\n",
       " RGB(0.27451, 0.509804, 0.705882)     RGB(0.27451, 0.509804, 0.705882)\n",
       " RGB(0.27451, 0.509804, 0.705882)     RGB(0.27451, 0.509804, 0.705882)\n",
       " RGB(0.27451, 0.509804, 0.705882)     RGB(0.27451, 0.509804, 0.705882)\n",
       " RGB(0.27451, 0.509804, 0.705882)  …  RGB(0.27451, 0.509804, 0.705882)\n",
       " RGB(0.27451, 0.509804, 0.705882)     RGB(0.27451, 0.509804, 0.705882)\n",
       " RGB(0.27451, 0.509804, 0.705882)     RGB(0.27451, 0.509804, 0.705882)\n",
       " RGB(0.27451, 0.509804, 0.705882)     RGB(0.27451, 0.509804, 0.705882)\n",
       " RGB(0.27451, 0.509804, 0.705882)     RGB(0.27451, 0.509804, 0.705882)\n",
       " ⋮                                 ⋱  \n",
       " RGB(0.27451, 0.509804, 0.705882)     RGB(0.27451, 0.509804, 0.705882)\n",
       " RGB(0.27451, 0.509804, 0.705882)     RGB(0.27451, 0.509804, 0.705882)\n",
       " RGB(0.27451, 0.509804, 0.705882)     RGB(0.27451, 0.509804, 0.705882)\n",
       " RGB(0.27451, 0.509804, 0.705882)     RGB(0.27451, 0.509804, 0.705882)\n",
       " RGB(0.27451, 0.509804, 0.705882)  …  RGB(0.27451, 0.509804, 0.705882)\n",
       " RGB(0.27451, 0.509804, 0.705882)     RGB(0.27451, 0.509804, 0.705882)\n",
       " RGB(0.27451, 0.509804, 0.705882)     RGB(0.27451, 0.509804, 0.705882)\n",
       " RGB(0.27451, 0.509804, 0.705882)     RGB(0.27451, 0.509804, 0.705882)\n",
       " RGB(0.27451, 0.509804, 0.705882)     RGB(0.27451, 0.509804, 0.705882)"
      ]
     },
     "metadata": {},
     "output_type": "display_data"
    }
   ],
   "source": [
    "let \n",
    "    shader(i,j, r, c) = begin\n",
    "        i, ii = divrem(i, 100i32)\n",
    "        j, jj = divrem(j, 100i32)\n",
    "        if i == 1 && j == 2 && (ii < 3 || jj < 3 || ii > 97 || jj > 97)\n",
    "            return colorant\"white\" \n",
    "        end\n",
    "\n",
    "        x  =  Float32(ii - 50i32) / 50.0f0\n",
    "        y  =  Float32(jj - 50i32) / 50.0f0\n",
    "        x = abs(x)\n",
    "        y = abs(y)\n",
    "        if x  + y - 1.5f0 < 0.0f0\n",
    "        \tif max(x,y) > 0.98\n",
    "                return colorant\"black\"\n",
    "            else\n",
    "                return colorant\"salmon\"\n",
    "            end\n",
    "        else \n",
    "        \treturn colorant\"steelblue\"\n",
    "        end\n",
    "    end\n",
    "    n = 400\n",
    "    b = CuArray{RGB{Float32}}(undef, n,n)\n",
    "    generate(shader, b)\n",
    "    b\n",
    "end"
   ]
  },
  {
   "cell_type": "code",
   "execution_count": 9,
   "id": "1a241e67",
   "metadata": {},
   "outputs": [
    {
     "data": {
      "text/plain": [
       "local_coords"
      ]
     },
     "metadata": {},
     "output_type": "display_data"
    }
   ],
   "source": [
    "# Hex-grid helpers (pointy-topped, size = 1)  –  Float32 version\n",
    "const SQRT3_f32 = Float32(sqrt(3.0))          # ≈ 1.7320508f0\n",
    "\n",
    "\"\"\"\n",
    "    point_to_cube(px, py; size = 1f0) -> (X, Y, Z)\n",
    "\n",
    "Given a point `(px, py)` in the plane (Float32), return the **integer**\n",
    "cube coordinates of the hexagon that contains it.\n",
    "`size` is the centre-to-vertex distance of each hex (Float32, default 1).\n",
    "\"\"\"\n",
    "function point_to_cube(px::Float32, py::Float32; size::Float32 = 1f0)\n",
    "    # --- scale away hex size -------------------------------------------------\n",
    "    px /= size\n",
    "    py /= size\n",
    "\n",
    "    # --- fractional cube coordinates ----------------------------------------\n",
    "    zf = (2f0/3f0) * py\n",
    "    xf = (SQRT3_f32/3f0) * px - py/3f0\n",
    "    yf = -xf - zf          # keep the invariant x+y+z = 0\n",
    "\n",
    "    # --- round to nearest integer cube --------------------------------------\n",
    "    rx, ry, rz = round(Int, xf), round(Int, yf), round(Int, zf)\n",
    "    dx, dy, dz = abs(Float32(rx) - xf), abs(Float32(ry) - yf), abs(Float32(rz) - zf)\n",
    "\n",
    "    if dx > dy && dx > dz\n",
    "        rx = -ry - rz\n",
    "    elseif dy > dz\n",
    "        ry = -rx - rz\n",
    "    else\n",
    "        rz = -rx - ry\n",
    "    end\n",
    "    return (rx, ry, rz)\n",
    "end\n",
    "\n",
    "\"\"\"\n",
    "    local_coords(px, py; size = 1f0) -> ((X,Y,Z), (x′, y′))\n",
    "\n",
    "Return the containing hex’s cube coords **and**\n",
    "the local coordinates of the point after translating that hex so its\n",
    "centre sits at the origin.\n",
    "\"\"\"\n",
    "function local_coords(px::Float32, py::Float32; size::Float32 = 1f0)\n",
    "    # 1. Which hex are we in?\n",
    "    (cx, cy, cz) = point_to_cube(px, py; size)\n",
    "\n",
    "    # 2. Centre of that hex in world-space\n",
    "    centre_x = size * (SQRT3_f32 * Float32(cx) + (SQRT3_f32/2f0) * Float32(cz))\n",
    "    centre_y = size * (1.5f0 * Float32(cz))\n",
    "\n",
    "    # 3. Local offset relative to translated origin-hex\n",
    "    local_x = px - centre_x\n",
    "    local_y = py - centre_y\n",
    "    return ((cx, cy, cz), (local_x, local_y))\n",
    "end\n",
    "\n"
   ]
  },
  {
   "cell_type": "code",
   "execution_count": 11,
   "id": "34ae5adf",
   "metadata": {},
   "outputs": [
    {
     "name": "stdout",
     "output_type": "stream",
     "text": [
      "point (1.4f0, 0.7f0) lies in cube hex (1, -1, 0)\n",
      "translated offset inside origin hex = (-0.3320508f0, 0.7f0)\n"
     ]
    }
   ],
   "source": [
    "# ----------------------------- demo ------------------------------------------\n",
    "point = (Float32(1.4), Float32(0.7))\n",
    "cube, loc = local_coords(point...; size = 1f0)\n",
    "println(\"point $point lies in cube hex $cube\")\n",
    "println(\"translated offset inside origin hex = $loc\")\n"
   ]
  },
  {
   "cell_type": "code",
   "execution_count": 24,
   "id": "1f008106",
   "metadata": {},
   "outputs": [
    {
     "data": {
      "image/png": "[encoded data removed]",
      "text/plain": [
       "400×400 CuArray{RGB{Float32}, 2, CUDA.DeviceMemory}:\n",
       " RGB(0.45, 0.7, 0.35)  RGB(0.45, 0.7, 0.35)  …  RGB(0.3, 0.55, 0.65)\n",
       " RGB(0.45, 0.7, 0.35)  RGB(0.45, 0.7, 0.35)     RGB(0.3, 0.55, 0.65)\n",
       " RGB(0.45, 0.7, 0.35)  RGB(0.45, 0.7, 0.35)     RGB(0.3, 0.55, 0.65)\n",
       " RGB(0.45, 0.7, 0.35)  RGB(0.45, 0.7, 0.35)     RGB(0.3, 0.55, 0.65)\n",
       " RGB(0.45, 0.7, 0.35)  RGB(0.45, 0.7, 0.35)     RGB(0.3, 0.55, 0.65)\n",
       " RGB(0.45, 0.7, 0.35)  RGB(0.45, 0.7, 0.35)  …  RGB(0.3, 0.55, 0.65)\n",
       " RGB(0.45, 0.7, 0.35)  RGB(0.45, 0.7, 0.35)     RGB(0.3, 0.55, 0.65)\n",
       " RGB(0.45, 0.7, 0.35)  RGB(0.45, 0.7, 0.35)     RGB(0.3, 0.55, 0.65)\n",
       " RGB(0.45, 0.7, 0.35)  RGB(0.45, 0.7, 0.35)     RGB(0.3, 0.55, 0.65)\n",
       " RGB(0.45, 0.7, 0.35)  RGB(0.45, 0.7, 0.35)     RGB(0.3, 0.55, 0.65)\n",
       " ⋮                                           ⋱  \n",
       " RGB(0.7, 0.45, 0.35)  RGB(0.7, 0.45, 0.35)     RGB(0.55, 0.3, 0.65)\n",
       " RGB(0.7, 0.45, 0.35)  RGB(0.7, 0.45, 0.35)     RGB(0.55, 0.3, 0.65)\n",
       " RGB(0.7, 0.45, 0.35)  RGB(0.7, 0.45, 0.35)     RGB(0.55, 0.3, 0.65)\n",
       " RGB(0.7, 0.45, 0.35)  RGB(0.7, 0.45, 0.35)     RGB(0.55, 0.3, 0.65)\n",
       " RGB(0.7, 0.45, 0.35)  RGB(0.7, 0.45, 0.35)  …  RGB(0.55, 0.3, 0.65)\n",
       " RGB(0.7, 0.45, 0.35)  RGB(0.7, 0.45, 0.35)     RGB(0.55, 0.3, 0.65)\n",
       " RGB(0.7, 0.45, 0.35)  RGB(0.7, 0.45, 0.35)     RGB(0.55, 0.3, 0.65)\n",
       " RGB(0.7, 0.45, 0.35)  RGB(0.7, 0.45, 0.35)     RGB(0.55, 0.3, 0.65)\n",
       " RGB(0.7, 0.45, 0.35)  RGB(0.7, 0.45, 0.35)     RGB(0.55, 0.3, 0.65)"
      ]
     },
     "metadata": {},
     "output_type": "display_data"
    }
   ],
   "source": [
    "let \n",
    "    shader(i, j, r, c) = begin\n",
    "        if abs(i - r / 2i32) < 2i32 || abs(j - c / 2i32) < 2i32\n",
    "            return colorant\"white\"\n",
    "        end\n",
    "        \n",
    "        x  =  Float32(i - r / 2i32) / (r/ 2f0) * 10.0f0\n",
    "        y  =  Float32(j - c / 2i32) / (r/ 2f0) * 10.0f0\n",
    "        (hii, hjj, hkk), (xx, yy) = local_coords(x, y, size = 2.0f0)\n",
    "        deg = atand(xx, yy)\n",
    "        # if 0.0f0 <= deg < 60.0f0\n",
    "        #     return colorant\"salmon\"\n",
    "        # end\n",
    "        return RGB{Float32}(0.5f0 + hii/20.0f0, 0.5f0 + hjj/20.0f0, 0.5f0 +hkk/20.0f0)\n",
    "    end\n",
    "    n = 400\n",
    "    b = CuArray{RGB{Float32}}(undef, n,n)\n",
    "    generate(shader, b)\n",
    "    b\n",
    "end"
   ]
  },
  {
   "cell_type": "code",
   "execution_count": null,
   "id": "afd71c0d",
   "metadata": {},
   "outputs": [],
   "source": []
  }
 ],
 "metadata": {
  "kernelspec": {
   "display_name": "Julia 1.11.5",
   "language": "julia",
   "name": "julia-1.11"
  },
  "language_info": {
   "file_extension": ".jl",
   "mimetype": "application/julia",
   "name": "julia",
   "version": "1.11.5"
  }
 },
 "nbformat": 4,
 "nbformat_minor": 5
}
