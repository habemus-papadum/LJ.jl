{
 "cells": [
  {
   "cell_type": "code",
   "execution_count": 1,
   "id": "98e6e5e1",
   "metadata": {},
   "outputs": [],
   "source": [
    "using CUDA, Colors, ColorMatrixConvention"
   ]
  },
  {
   "cell_type": "code",
   "execution_count": 2,
   "id": "c96069d9",
   "metadata": {},
   "outputs": [
    {
     "data": {
      "text/plain": [
       "generate (generic function with 2 methods)"
      ]
     },
     "metadata": {},
     "output_type": "display_data"
    }
   ],
   "source": [
    "function generate_kernel(f, img)\n",
    "    r, c = Int32.(size(img))\n",
    "    i = threadIdx().x + (blockIdx().x - 1) * blockDim().x\n",
    "    j = threadIdx().y + (blockIdx().y - 1) * blockDim().y\n",
    "    \n",
    "    @inbounds if i <= r && j <= c\n",
    "        @inline img[i,j] = eltype(img)(f(i,j,r,c))\n",
    "    end\n",
    "    return\n",
    "end\n",
    "\n",
    "function generate(f, img::CuArray{C}, sync=true) where C<:Colorant\n",
    "    threads = 16,16\n",
    "    blocks = cld.(size(img), threads)\n",
    "        @cuda threads=threads blocks=blocks generate_kernel(f, img)\n",
    "        if sync\n",
    "            CUDA.synchronize()\n",
    "        end\n",
    "    img\n",
    "end"
   ]
  },
  {
   "cell_type": "code",
   "execution_count": 3,
   "id": "5478a7c5",
   "metadata": {},
   "outputs": [
    {
     "data": {
      "image/png": "[encoded data removed]",
      "text/plain": [
       "50×50 CuArray{RGB{Float32}, 2, CUDA.DeviceMemory}:\n",
       " RGB(0.847059, 0.74902, 0.847059)  …  RGB(0.847059, 0.74902, 0.847059)\n",
       " RGB(0.847059, 0.74902, 0.847059)     RGB(0.847059, 0.74902, 0.847059)\n",
       " RGB(0.847059, 0.74902, 0.847059)     RGB(0.847059, 0.74902, 0.847059)\n",
       " RGB(0.847059, 0.74902, 0.847059)     RGB(0.847059, 0.74902, 0.847059)\n",
       " RGB(0.847059, 0.74902, 0.847059)     RGB(0.847059, 0.74902, 0.847059)\n",
       " RGB(0.847059, 0.74902, 0.847059)  …  RGB(0.847059, 0.74902, 0.847059)\n",
       " RGB(0.847059, 0.74902, 0.847059)     RGB(0.847059, 0.74902, 0.847059)\n",
       " RGB(0.847059, 0.74902, 0.847059)     RGB(0.847059, 0.74902, 0.847059)\n",
       " RGB(0.847059, 0.74902, 0.847059)     RGB(0.847059, 0.74902, 0.847059)\n",
       " RGB(0.847059, 0.74902, 0.847059)     RGB(0.847059, 0.74902, 0.847059)\n",
       " ⋮                                 ⋱  \n",
       " RGB(0.847059, 0.74902, 0.847059)     RGB(0.847059, 0.74902, 0.847059)\n",
       " RGB(0.847059, 0.74902, 0.847059)     RGB(0.847059, 0.74902, 0.847059)\n",
       " RGB(0.847059, 0.74902, 0.847059)     RGB(0.847059, 0.74902, 0.847059)\n",
       " RGB(0.847059, 0.74902, 0.847059)     RGB(0.847059, 0.74902, 0.847059)\n",
       " RGB(0.847059, 0.74902, 0.847059)  …  RGB(0.847059, 0.74902, 0.847059)\n",
       " RGB(0.847059, 0.74902, 0.847059)     RGB(0.847059, 0.74902, 0.847059)\n",
       " RGB(0.847059, 0.74902, 0.847059)     RGB(0.847059, 0.74902, 0.847059)\n",
       " RGB(0.847059, 0.74902, 0.847059)     RGB(0.847059, 0.74902, 0.847059)\n",
       " RGB(0.847059, 0.74902, 0.847059)     RGB(0.847059, 0.74902, 0.847059)"
      ]
     },
     "metadata": {},
     "output_type": "display_data"
    }
   ],
   "source": [
    "let \n",
    "    simple(i,j,r,c) = colorant\"thistle\"\n",
    "    \n",
    "    n = 50\n",
    "    b = CuArray{RGB{Float32}}(undef, n,n)\n",
    "    generate(simple, b)\n",
    "    b\n",
    "end"
   ]
  },
  {
   "cell_type": "code",
   "execution_count": null,
   "id": "0545cb6c",
   "metadata": {},
   "outputs": [],
   "source": []
  }
 ],
 "metadata": {
  "kernelspec": {
   "display_name": "Julia 1.11.5",
   "language": "julia",
   "name": "julia-1.11"
  },
  "language_info": {
   "file_extension": ".jl",
   "mimetype": "application/julia",
   "name": "julia",
   "version": "1.11.5"
  }
 },
 "nbformat": 4,
 "nbformat_minor": 5
}
