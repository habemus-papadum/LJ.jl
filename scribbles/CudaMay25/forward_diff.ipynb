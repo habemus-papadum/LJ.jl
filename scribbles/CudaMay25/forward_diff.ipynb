{
 "cells": [
  {
   "cell_type": "code",
   "execution_count": 1,
   "id": "0aba2636",
   "metadata": {},
   "outputs": [],
   "source": [
    "using ForwardDiff, Colors\n",
    "using ForwardDiff: Partials, Dual, value, partials"
   ]
  },
  {
   "cell_type": "code",
   "execution_count": 2,
   "id": "c1340774",
   "metadata": {},
   "outputs": [],
   "source": [
    "struct Tag end"
   ]
  },
  {
   "cell_type": "code",
   "execution_count": 3,
   "id": "d7518d6f",
   "metadata": {},
   "outputs": [
    {
     "data": {
      "text/plain": [
       "Dual{Tag}(1.0,1.0)"
      ]
     },
     "metadata": {},
     "output_type": "display_data"
    }
   ],
   "source": [
    "x = Dual{Tag}(1.0, (1.0, ))"
   ]
  },
  {
   "cell_type": "code",
   "execution_count": 4,
   "id": "b4a35b30",
   "metadata": {},
   "outputs": [
    {
     "data": {
      "text/plain": [
       "#11 (generic function with 1 method)"
      ]
     },
     "metadata": {},
     "output_type": "display_data"
    }
   ],
   "source": [
    "f = x -> x^2 + 2x"
   ]
  },
  {
   "cell_type": "code",
   "execution_count": 5,
   "id": "9c90317f",
   "metadata": {},
   "outputs": [
    {
     "data": {
      "text/plain": [
       "Dual{Tag}(3.0,4.0)"
      ]
     },
     "metadata": {},
     "output_type": "display_data"
    }
   ],
   "source": [
    "f(x)"
   ]
  },
  {
   "cell_type": "code",
   "execution_count": 6,
   "id": "1e177ab4",
   "metadata": {},
   "outputs": [
    {
     "data": {
      "text/plain": [
       "1-element Partials{1, Float64}:\n",
       " 4.0"
      ]
     },
     "metadata": {},
     "output_type": "display_data"
    }
   ],
   "source": [
    "partials(f(x))"
   ]
  },
  {
   "cell_type": "code",
   "execution_count": 7,
   "id": "dddf7145",
   "metadata": {},
   "outputs": [
    {
     "data": {
      "text/plain": [
       "g (generic function with 1 method)"
      ]
     },
     "metadata": {},
     "output_type": "display_data"
    }
   ],
   "source": [
    "function g(x)\n",
    "    RGB(x,2*x,x^2)\n",
    "end"
   ]
  },
  {
   "cell_type": "code",
   "execution_count": 8,
   "id": "bfae0f69",
   "metadata": {},
   "outputs": [
    {
     "name": "stdout",
     "output_type": "stream",
     "text": [
      "g(1.0) = RGB{Float64}(1.0, 2.0, 1.0)\n"
     ]
    }
   ],
   "source": [
    "@show g(1.0)\n",
    "nothing"
   ]
  },
  {
   "cell_type": "code",
   "execution_count": 9,
   "id": "e5dc7c63",
   "metadata": {},
   "outputs": [
    {
     "ename": "ArgumentError",
     "evalue": "ArgumentError: component type FixedPointNumbers.N0f8 is an 8-bit type representing 256 values from 0.0 to 1.0,\n  but the values (Dual{Tag}(1.0,1.0), Dual{Tag}(2.0,2.0), Dual{Tag}(1.0,2.0)) do not lie within this range.\n  See the READMEs for FixedPointNumbers and ColorTypes for more information.",
     "output_type": "error",
     "traceback": [
      "ArgumentError: component type FixedPointNumbers.N0f8 is an 8-bit type representing 256 values from 0.0 to 1.0,\n",
      "  but the values (Dual{Tag}(1.0,1.0), Dual{Tag}(2.0,2.0), Dual{Tag}(1.0,2.0)) do not lie within this range.\n",
      "  See the READMEs for FixedPointNumbers and ColorTypes for more information.\n",
      "\n",
      "Stacktrace:\n",
      "  [1] throw_colorerror_(::Type{FixedPointNumbers.N0f8}, values::Tuple{Dual{Tag, Float64, 1}, Dual{Tag, Float64, 1}, Dual{Tag, Float64, 1}})\n",
      "    @ ColorTypes ~/.julia/packages/ColorTypes/L7biZ/src/types.jl:692\n",
      "  [2] throw_colorerror(::Type{RGB{FixedPointNumbers.N0f8}}, values::Tuple{Dual{Tag, Float64, 1}, Dual{Tag, Float64, 1}, Dual{Tag, Float64, 1}})\n",
      "    @ ColorTypes ~/.julia/packages/ColorTypes/L7biZ/src/types.jl:717\n",
      "  [3] checkval\n",
      "    @ ~/.julia/packages/ColorTypes/L7biZ/src/types.jl:670 [inlined]\n",
      "  [4] _new_colorant(::Type{RGB{FixedPointNumbers.N0f8}}, ::Dual{Tag, Float64, 1}, ::Dual{Tag, Float64, 1}, ::Dual{Tag, Float64, 1})\n",
      "    @ ColorTypes ~/.julia/packages/ColorTypes/L7biZ/src/types.jl:582\n",
      "  [5] Color\n",
      "    @ ~/.julia/packages/ColorTypes/L7biZ/src/types.jl:537 [inlined]\n",
      "  [6] _new_colorant\n",
      "    @ ~/.julia/packages/ColorTypes/L7biZ/src/types.jl:554 [inlined]\n",
      "  [7] Color\n",
      "    @ ~/.julia/packages/ColorTypes/L7biZ/src/types.jl:537 [inlined]\n",
      "  [8] g(x::Dual{Tag, Float64, 1})\n",
      "    @ Main ~/src/LJ.jl/scribbles/CudaMay25/jl_notebook_cell_df34fa98e69747e1a8f8a730347b8e2f_W6sZmlsZQ==.jl:2\n",
      "  [9] macro expansion\n",
      "    @ show.jl:1232 [inlined]\n",
      " [10] top-level scope\n",
      "    @ ~/src/LJ.jl/scribbles/CudaMay25/jl_notebook_cell_df34fa98e69747e1a8f8a730347b8e2f_X11sZmlsZQ==.jl:1"
     ]
    }
   ],
   "source": [
    "@show g(x)\n",
    "nothing"
   ]
  },
  {
   "cell_type": "code",
   "execution_count": 18,
   "id": "e1a82331",
   "metadata": {},
   "outputs": [
    {
     "data": {
      "text/plain": [
       "Dual{Tag, Float64, 1}"
      ]
     },
     "metadata": {},
     "output_type": "display_data"
    }
   ],
   "source": [
    "typeof(x)"
   ]
  },
  {
   "cell_type": "code",
   "execution_count": 24,
   "id": "cfade42c",
   "metadata": {},
   "outputs": [
    {
     "ename": "TypeError",
     "evalue": "TypeError: in RGB, in T, expected T<:Union{AbstractFloat, FixedPointNumbers.FixedPoint}, got Type{Dual{Tag, Float64, 1}}",
     "output_type": "error",
     "traceback": [
      "TypeError: in RGB, in T, expected T<:Union{AbstractFloat, FixedPointNumbers.FixedPoint}, got Type{Dual{Tag, Float64, 1}}\n",
      "\n",
      "Stacktrace:\n",
      " [1] top-level scope\n",
      "   @ ~/src/LJ.jl/scribbles/CudaMay25/jl_notebook_cell_df34fa98e69747e1a8f8a730347b8e2f_X13sZmlsZQ==.jl:5"
     ]
    }
   ],
   "source": [
    "using ForwardDiff, Colors\n",
    "using ForwardDiff: Dual\n",
    "struct Tag end\n",
    "x = Dual{Tag}(1.0, (1.0, ))\n",
    "RGB{typeof(x)}(x, 2*x, x^2)\n"
   ]
  },
  {
   "cell_type": "code",
   "execution_count": 10,
   "id": "c5367ce1",
   "metadata": {},
   "outputs": [],
   "source": [
    "using StaticArrays"
   ]
  },
  {
   "cell_type": "code",
   "execution_count": 11,
   "id": "d1417a5f",
   "metadata": {},
   "outputs": [
    {
     "data": {
      "text/plain": [
       "h (generic function with 1 method)"
      ]
     },
     "metadata": {},
     "output_type": "display_data"
    }
   ],
   "source": [
    "function h(x)\n",
    "    SA[x,2*x,x^2]\n",
    "end"
   ]
  },
  {
   "cell_type": "code",
   "execution_count": 12,
   "id": "04342d79",
   "metadata": {},
   "outputs": [
    {
     "data": {
      "text/plain": [
       "3-element SVector{3, Float64} with indices SOneTo(3):\n",
       " 1.0\n",
       " 2.0\n",
       " 1.0"
      ]
     },
     "metadata": {},
     "output_type": "display_data"
    }
   ],
   "source": [
    "h(1.0)"
   ]
  },
  {
   "cell_type": "code",
   "execution_count": 13,
   "id": "949f323d",
   "metadata": {},
   "outputs": [
    {
     "data": {
      "text/plain": [
       "3-element SVector{3, Dual{Tag, Float64, 1}} with indices SOneTo(3):\n",
       " Dual{Tag}(1.0,1.0)\n",
       " Dual{Tag}(2.0,2.0)\n",
       " Dual{Tag}(1.0,2.0)"
      ]
     },
     "metadata": {},
     "output_type": "display_data"
    }
   ],
   "source": [
    "h(x)"
   ]
  },
  {
   "cell_type": "code",
   "execution_count": 14,
   "id": "e2bad2e0",
   "metadata": {},
   "outputs": [],
   "source": [
    "using CUDA"
   ]
  },
  {
   "cell_type": "code",
   "execution_count": 15,
   "id": "9dc6052e",
   "metadata": {},
   "outputs": [
    {
     "data": {
      "text/plain": [
       "mapper (generic function with 1 method)"
      ]
     },
     "metadata": {},
     "output_type": "display_data"
    }
   ],
   "source": [
    "function mapper(f, x, y)\n",
    "    @assert length(x) == length(y)\n",
    "    r = Int32.(length(x))\n",
    "    i = threadIdx().x + (blockIdx().x - 1) * blockDim().x\n",
    "    \n",
    "    @inbounds if i <= r \n",
    "        @inline y[i] = f(x[i])\n",
    "    end\n",
    "    return\n",
    "end\n"
   ]
  },
  {
   "cell_type": "code",
   "execution_count": 16,
   "id": "4f0ddffd",
   "metadata": {},
   "outputs": [
    {
     "data": {
      "text/plain": [
       "10-element CuArray{Float64, 1, CUDA.DeviceMemory}:\n",
       " 0.0\n",
       " 0.0\n",
       " 0.0\n",
       " 0.0\n",
       " 0.0\n",
       " 0.0\n",
       " 0.0\n",
       " 0.0\n",
       " 0.0\n",
       " 0.0"
      ]
     },
     "metadata": {},
     "output_type": "display_data"
    }
   ],
   "source": [
    "x = CuArray(1:10) * 1.0\n",
    "y = similar(x)"
   ]
  },
  {
   "cell_type": "code",
   "execution_count": 17,
   "id": "fbdad60e",
   "metadata": {},
   "outputs": [
    {
     "name": "stdout",
     "output_type": "stream",
     "text": [
      "threads = 256 = 256\n",
      "blocks = cld.(size(x), threads) = (1,)\n"
     ]
    },
    {
     "data": {
      "text/plain": [
       "(1,)"
      ]
     },
     "metadata": {},
     "output_type": "display_data"
    }
   ],
   "source": [
    "@show threads = 256\n",
    "@show blocks = cld.(size(x), threads)"
   ]
  },
  {
   "cell_type": "code",
   "execution_count": 18,
   "id": "86ffbd4d",
   "metadata": {},
   "outputs": [],
   "source": [
    "@cuda threads=threads blocks=blocks mapper( x->x+2, x, y)\n",
    "CUDA.synchronize()"
   ]
  },
  {
   "cell_type": "code",
   "execution_count": 19,
   "id": "864fbaba",
   "metadata": {},
   "outputs": [
    {
     "data": {
      "text/plain": [
       "10-element CuArray{Float64, 1, CUDA.DeviceMemory}:\n",
       "  3.0\n",
       "  4.0\n",
       "  5.0\n",
       "  6.0\n",
       "  7.0\n",
       "  8.0\n",
       "  9.0\n",
       " 10.0\n",
       " 11.0\n",
       " 12.0"
      ]
     },
     "metadata": {},
     "output_type": "display_data"
    }
   ],
   "source": [
    "y"
   ]
  },
  {
   "cell_type": "code",
   "execution_count": 20,
   "id": "294510b3",
   "metadata": {},
   "outputs": [
    {
     "data": {
      "text/plain": [
       "Dual{Tag}(1.0,1.0)"
      ]
     },
     "metadata": {},
     "output_type": "display_data"
    }
   ],
   "source": [
    "_x = Dual{Tag}(1.0, (1.0, ))"
   ]
  },
  {
   "cell_type": "code",
   "execution_count": 31,
   "id": "fd114a16",
   "metadata": {},
   "outputs": [
    {
     "data": {
      "text/plain": [
       "10-element CuArray{Dual{Tag, Float64, 1}, 1, CUDA.DeviceMemory}:\n",
       "  Dual{Tag}(2.0,1.0)\n",
       "  Dual{Tag}(3.0,1.0)\n",
       "  Dual{Tag}(4.0,1.0)\n",
       "  Dual{Tag}(5.0,1.0)\n",
       "  Dual{Tag}(6.0,1.0)\n",
       "  Dual{Tag}(7.0,1.0)\n",
       "  Dual{Tag}(8.0,1.0)\n",
       "  Dual{Tag}(9.0,1.0)\n",
       " Dual{Tag}(10.0,1.0)\n",
       " Dual{Tag}(11.0,1.0)"
      ]
     },
     "metadata": {},
     "output_type": "display_data"
    }
   ],
   "source": [
    "xx = x .+ _x"
   ]
  },
  {
   "cell_type": "code",
   "execution_count": 32,
   "id": "38720616",
   "metadata": {},
   "outputs": [
    {
     "data": {
      "text/plain": [
       "10-element CuArray{Dual{Tag, Float64, 1}, 1, CUDA.DeviceMemory}:\n",
       " Dual{Tag}(0.0,0.0)\n",
       " Dual{Tag}(0.0,0.0)\n",
       " Dual{Tag}(0.0,0.0)\n",
       " Dual{Tag}(0.0,0.0)\n",
       " Dual{Tag}(0.0,0.0)\n",
       " Dual{Tag}(0.0,0.0)\n",
       " Dual{Tag}(0.0,0.0)\n",
       " Dual{Tag}(0.0,0.0)\n",
       " Dual{Tag}(0.0,0.0)\n",
       " Dual{Tag}(0.0,0.0)"
      ]
     },
     "metadata": {},
     "output_type": "display_data"
    }
   ],
   "source": [
    "yy = similar(xx)"
   ]
  },
  {
   "cell_type": "code",
   "execution_count": 35,
   "id": "6bd5ed72",
   "metadata": {},
   "outputs": [],
   "source": [
    "@cuda threads=threads blocks=blocks mapper( x->(x+2)^2 - exp(x), xx, yy)\n",
    "CUDA.synchronize()"
   ]
  },
  {
   "cell_type": "code",
   "execution_count": 36,
   "id": "669704de",
   "metadata": {},
   "outputs": [
    {
     "data": {
      "text/plain": [
       "10-element CuArray{Dual{Tag, Float64, 1}, 1, CUDA.DeviceMemory}:\n",
       "      Dual{Tag}(8.61094390106935,0.6109439010693496)\n",
       "      Dual{Tag}(4.914463076812332,-10.085536923187668)\n",
       "    Dual{Tag}(-18.598150033144236,-42.598150033144236)\n",
       "    Dual{Tag}(-99.4131591025766,-134.4131591025766)\n",
       "   Dual{Tag}(-339.4287934927351,-387.4287934927351)\n",
       "  Dual{Tag}(-1015.6331584284585,-1078.6331584284585)\n",
       "  Dual{Tag}(-2880.9579870417283,-2960.9579870417283)\n",
       "  Dual{Tag}(-7982.083927575384,-8081.083927575384)\n",
       " Dual{Tag}(-21882.465794806714,-22002.465794806714)\n",
       " Dual{Tag}(-59705.14171519782,-59848.14171519782)"
      ]
     },
     "metadata": {},
     "output_type": "display_data"
    }
   ],
   "source": [
    "yy"
   ]
  },
  {
   "cell_type": "code",
   "execution_count": 38,
   "id": "22802b89",
   "metadata": {},
   "outputs": [
    {
     "data": {
      "text/plain": [
       "10-element CuArray{Dual{Tag, Float64, 1}, 1, CUDA.DeviceMemory}:\n",
       " Dual{Tag}(9.999999999997797e-7,0.0019999999999997797)\n",
       " Dual{Tag}(1.0020009999999997,2.002)\n",
       " Dual{Tag}(1.0000000000006678e-6,0.002000000000000668)\n",
       " Dual{Tag}(1.0020010000000006,2.0020000000000007)\n",
       " Dual{Tag}(1.0000000000006678e-6,0.002000000000000668)\n",
       " Dual{Tag}(1.0020010000000006,2.0020000000000007)\n",
       " Dual{Tag}(9.999999999988916e-7,0.0019999999999988916)\n",
       " Dual{Tag}(1.0020009999999988,2.001999999999999)\n",
       " Dual{Tag}(9.999999999988916e-7,0.0019999999999988916)\n",
       " Dual{Tag}(1.0020009999999988,2.001999999999999)"
      ]
     },
     "metadata": {},
     "output_type": "display_data"
    }
   ],
   "source": [
    "@cuda threads=threads blocks=blocks mapper( x->((x + 0.001) % 2.0)^2 , xx, yy)\n",
    "CUDA.synchronize()\n",
    "yy"
   ]
  },
  {
   "cell_type": "code",
   "execution_count": null,
   "id": "374006b8",
   "metadata": {},
   "outputs": [],
   "source": []
  }
 ],
 "metadata": {
  "kernelspec": {
   "display_name": "Julia 1.11.5",
   "language": "julia",
   "name": "julia-1.11"
  },
  "language_info": {
   "file_extension": ".jl",
   "mimetype": "application/julia",
   "name": "julia",
   "version": "1.11.5"
  }
 },
 "nbformat": 4,
 "nbformat_minor": 5
}
